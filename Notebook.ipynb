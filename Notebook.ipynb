{
  "nbformat": 4,
  "nbformat_minor": 0,
  "metadata": {
    "colab": {
      "name": "Untitled0.ipynb",
      "provenance": [],
      "authorship_tag": "ABX9TyNKzebazuiOY8DGDYgI5Rao",
      "include_colab_link": true
    },
    "kernelspec": {
      "name": "python3",
      "display_name": "Python 3"
    }
  },
  "cells": [
    {
      "cell_type": "markdown",
      "metadata": {
        "id": "view-in-github",
        "colab_type": "text"
      },
      "source": [
        "<a href=\"https://colab.research.google.com/github/srj7/DSCourse/blob/main/Notebook.ipynb\" target=\"_parent\"><img src=\"https://colab.research.google.com/assets/colab-badge.svg\" alt=\"Open In Colab\"/></a>"
      ]
    },
    {
      "cell_type": "markdown",
      "metadata": {
        "id": "J7-8PH7e5VJa"
      },
      "source": [
        ""
      ]
    },
    {
      "cell_type": "markdown",
      "metadata": {
        "id": "bW52gkQi5Xff"
      },
      "source": [
        "RANIBOW"
      ]
    },
    {
      "cell_type": "code",
      "metadata": {
        "id": "b4MqnlU85j9g",
        "outputId": "7a580180-e82c-4c62-dd07-dce0e655dd2a",
        "colab": {
          "base_uri": "https://localhost:8080/"
        }
      },
      "source": [
        "print(\"LETS UPGRADE\")"
      ],
      "execution_count": 23,
      "outputs": [
        {
          "output_type": "stream",
          "text": [
            "LETS UPGRADE\n"
          ],
          "name": "stdout"
        }
      ]
    },
    {
      "cell_type": "code",
      "metadata": {
        "id": "9V3BVvN66AuI",
        "outputId": "89698919-636a-45bf-b86d-f2738771818b",
        "colab": {
          "base_uri": "https://localhost:8080/"
        }
      },
      "source": [
        "cost = int(input())\n",
        "sell = int(input())\n",
        "if(sell==cost):\n",
        "  print(\"Neither\")\n",
        "elif(sell>cost):\n",
        "  print(\"Profit\")\n",
        "else:\n",
        "  print(\"Loss\")\n"
      ],
      "execution_count": 24,
      "outputs": [
        {
          "output_type": "stream",
          "text": [
            "44\n",
            "44\n",
            "Neither\n"
          ],
          "name": "stdout"
        }
      ]
    },
    {
      "cell_type": "code",
      "metadata": {
        "id": "7cLCrE6s7FpZ",
        "outputId": "65a8e6f5-ff11-4659-faa4-e1b525d467a4",
        "colab": {
          "base_uri": "https://localhost:8080/"
        }
      },
      "source": [
        "r = int(input())\n",
        "eu = r*80\n",
        "print(eu)"
      ],
      "execution_count": 26,
      "outputs": [
        {
          "output_type": "stream",
          "text": [
            "40\n",
            "3200\n"
          ],
          "name": "stdout"
        }
      ]
    },
    {
      "cell_type": "code",
      "metadata": {
        "id": "tJBJwxKbAvKn"
      },
      "source": [
        ""
      ],
      "execution_count": null,
      "outputs": []
    }
  ]
}